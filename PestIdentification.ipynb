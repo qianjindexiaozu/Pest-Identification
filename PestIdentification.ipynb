{
 "cells": [
  {
   "cell_type": "markdown",
   "source": [
    "导入需要的包"
   ],
   "metadata": {
    "collapsed": false
   },
   "id": "550f1b1f806d2d4f"
  },
  {
   "cell_type": "code",
   "execution_count": 1,
   "id": "initial_id",
   "metadata": {
    "collapsed": true,
    "ExecuteTime": {
     "end_time": "2024-10-29T02:33:58.842082Z",
     "start_time": "2024-10-29T02:33:57.525744Z"
    }
   },
   "outputs": [],
   "source": [
    "from torch.utils.data import Dataset\n",
    "from PIL import Image\n",
    "import os"
   ]
  },
  {
   "cell_type": "markdown",
   "source": [
    "创建MyDataset数据集类"
   ],
   "metadata": {
    "collapsed": false
   },
   "id": "1d5c686e10ec526"
  },
  {
   "cell_type": "code",
   "outputs": [],
   "source": [
    "class MyDataset(Dataset):\n",
    "    \n",
    "    def __init__(self, root_dir, label_dir):\n",
    "        self.root_dir = root_dir\n",
    "        self.label_dir = label_dir\n",
    "        self.path = os.path.join(root_dir, label_dir)\n",
    "        self.img_list = os.listdir(self.path) \n",
    "        \n",
    "    def __getitem__(self, idx):\n",
    "        img_name = self.img_list[idx]\n",
    "        img_item_path = os.path.join(self.path, img_name)\n",
    "        img = Image.open(img_item_path )\n",
    "        label = self.label_dir\n",
    "        return img, label \n",
    "    \n",
    "    def __len__(self):\n",
    "        return len(self.img_list)"
   ],
   "metadata": {
    "collapsed": false,
    "ExecuteTime": {
     "end_time": "2024-10-29T02:34:02.416840Z",
     "start_time": "2024-10-29T02:34:02.411169Z"
    }
   },
   "id": "62fcf758b5822ee6",
   "execution_count": 2
  },
  {
   "cell_type": "markdown",
   "source": [
    "为数据集创建实例"
   ],
   "metadata": {
    "collapsed": false
   },
   "id": "270df04fad73682a"
  },
  {
   "cell_type": "code",
   "outputs": [
    {
     "name": "stdout",
     "output_type": "stream",
     "text": [
      "['jpg_67 - Copy (3).jpg', 'jpg_32 - Copy.jpg', 'jpg_30.jpg', 'jpg_43 - Copy (2).jpg', 'jpg_0 - Copy (2).jpg', 'jpg_75 - Copy (2).jpg', 'jpg_3 - Copy.jpg', 'jpg_0 - Copy (4).jpg', 'jpg_49 - Copy (4).jpg', 'jpg_12 - Copy (2).jpg', 'jpg_46 - Copy (4).jpg', 'jpg_40 - Copy.jpg', 'jpg_39 - Copy (3).jpg', 'jpg_24 - Copy (2).jpg', 'jpg_11 - Copy (3).jpg', 'jpg_20 - Copy (3).jpg', 'jpg_75 - Copy (3).jpg', 'jpg_2.jpg', 'jpg_51 - Copy (2).jpg', 'jpg_70.jpg', 'jpg_18 - Copy (3).jpg', 'jpg_17 - Copy (4).jpg', 'jpg_62 - Copy (3).jpg', 'jpg_35 - Copy (3).jpg', 'jpg_60 - Copy (3).jpg', 'jpg_43.jpg', 'jpg_30 - Copy.jpg', 'jpg_73 - Copy (3).jpg', 'jpg_21 - Copy.jpg', 'jpg_35 - Copy (2).jpg', 'jpg_18 - Copy.jpg', 'jpg_26 - Copy (4).jpg', 'jpg_10 - Copy (2).jpg', 'jpg_45 - Copy.jpg', 'jpg_63 - Copy.jpg', 'jpg_10 - Copy (4).jpg', 'jpg_63 - Copy (2).jpg', 'jpg_12.jpg', 'jpg_9 - Copy.jpg', 'jpg_44 - Copy (3).jpg', 'jpg_60 - Copy (4).jpg', 'jpg_20 - Copy.jpg', 'jpg_21 - Copy (3).jpg', 'jpg_22 - Copy (4).jpg', 'jpg_46 - Copy (2).jpg', 'jpg_52 - Copy (2).jpg', 'jpg_36 - Copy.jpg', 'jpg_60.jpg', 'jpg_23 - Copy (3).jpg', 'jpg_43 - Copy (3).jpg', 'jpg_13 - Copy (4).jpg', 'jpg_39 - Copy (2).jpg', 'jpg_50 - Copy (3).jpg', 'jpg_25 - Copy (2).jpg', 'jpg_65 - Copy (4).jpg', 'jpg_44 - Copy (4).jpg', 'jpg_18 - Copy (2).jpg', 'jpg_15 - Copy.jpg', 'jpg_36.jpg', 'jpg_45.jpg', 'jpg_64 - Copy.jpg', 'jpg_78 - Copy (3).jpg', 'jpg_18 - Copy (4).jpg', 'jpg_50 - Copy (4).jpg', 'jpg_7 - Copy (4).jpg', 'jpg_79 - Copy (3).jpg', 'jpg_65 - Copy (2).jpg', 'jpg_78 - Copy.jpg', 'jpg_72 - Copy.jpg', 'jpg_55 - Copy (2).jpg', 'jpg_3 - Copy (4).jpg', 'jpg_7 - Copy (3).jpg', 'jpg_42 - Copy (3).jpg', 'jpg_50.jpg', 'jpg_44.jpg', 'jpg_32 - Copy (2).jpg', 'jpg_57 - Copy (3).jpg', 'jpg_3.jpg', 'jpg_48.jpg', 'jpg_12 - Copy (3).jpg', 'jpg_64 - Copy (3).jpg', 'jpg_75 - Copy (4).jpg', 'jpg_53 - Copy (3).jpg', 'jpg_16 - Copy (2).jpg', 'jpg_71 - Copy.jpg', 'jpg_64 - Copy (4).jpg', 'jpg_65 - Copy (3).jpg', 'jpg_52 - Copy (4).jpg', 'jpg_15 - Copy (4).jpg', 'jpg_37 - Copy.jpg', 'jpg_32 - Copy (3).jpg', 'jpg_64 - Copy (2).jpg', 'jpg_6 - Copy (3).jpg', 'jpg_52 - Copy.jpg', 'jpg_14 - Copy (2).jpg', 'jpg_30 - Copy (2).jpg', 'jpg_45 - Copy (3).jpg', 'jpg_46 - Copy (3).jpg', 'jpg_21 - Copy (2).jpg', 'jpg_33 - Copy (2).jpg', 'jpg_42 - Copy (2).jpg', 'jpg_36 - Copy (2).jpg', 'jpg_68 - Copy (3).jpg', 'jpg_13 - Copy.jpg', 'jpg_72 - Copy (4).jpg', 'jpg_51 - Copy.jpg', 'jpg_9 - Copy (4).jpg', 'jpg_28 - Copy (2).jpg', 'jpg_15 - Copy (3).jpg', 'jpg_25 - Copy (4).jpg', 'jpg_37 - Copy (2).jpg', 'jpg_14 - Copy (3).jpg', 'jpg_45 - Copy (4).jpg', 'jpg_36 - Copy (4).jpg', 'jpg_40 - Copy (4).jpg', 'jpg_21.jpg', 'jpg_64.jpg', 'jpg_32 - Copy (4).jpg', 'jpg_20.jpg', 'jpg_72 - Copy (2).jpg', 'jpg_28 - Copy.jpg', 'jpg_53 - Copy (4).jpg', 'jpg_17 - Copy.jpg', 'jpg_20 - Copy (4).jpg', 'jpg_20 - Copy (2).jpg', 'jpg_61 - Copy (2).jpg', 'jpg_61.jpg', 'jpg_50 - Copy (2).jpg', 'jpg_42.jpg', 'jpg_2 - Copy.jpg', 'jpg_57 - Copy.jpg', 'jpg_12 - Copy.jpg', 'jpg_67 - Copy.jpg', 'jpg_62 - Copy (2).jpg', 'jpg_67 - Copy (2).jpg', 'jpg_14.jpg', 'jpg_78.jpg', 'jpg_33 - Copy (3).jpg', 'jpg_39 - Copy (4).jpg', 'jpg_52 - Copy (3).jpg', 'jpg_63.jpg', 'jpg_21 - Copy (4).jpg', 'jpg_26 - Copy.jpg', 'jpg_57 - Copy (2).jpg', 'jpg_26 - Copy (3).jpg', 'jpg_22 - Copy (2).jpg', 'jpg_42 - Copy (4).jpg', 'jpg_72 - Copy (3).jpg', 'jpg_49.jpg', 'jpg_44 - Copy (2).jpg', 'jpg_55 - Copy (4).jpg', 'jpg_24 - Copy.jpg', 'jpg_53.jpg', 'jpg_65 - Copy.jpg', 'jpg_52.jpg', 'jpg_51 - Copy (4).jpg', 'jpg_11 - Copy.jpg', 'jpg_60 - Copy (2).jpg', 'jpg_6 - Copy (4).jpg', 'jpg_69 - Copy (3).jpg', 'jpg_40 - Copy (2).jpg', 'jpg_67.jpg', 'jpg_62 - Copy.jpg', 'jpg_25.jpg', 'jpg_67 - Copy (4).jpg', 'jpg_68 - Copy (4).jpg', 'jpg_74.jpg', 'jpg_45 - Copy (2).jpg', 'jpg_49 - Copy (3).jpg', 'jpg_55 - Copy (3).jpg', 'jpg_58 - Copy (2).jpg', 'jpg_11 - Copy (2).jpg', 'jpg_30 - Copy (3).jpg', 'jpg_0 - Copy (3).jpg', 'jpg_22 - Copy (3).jpg', 'jpg_70 - Copy (3).jpg', 'jpg_70 - Copy (4).jpg', 'jpg_0 - Copy.jpg', 'jpg_62 - Copy (4).jpg', 'jpg_1 - Copy (3).jpg', 'jpg_0.jpg', 'jpg_7.jpg', 'jpg_74 - Copy (2).jpg', 'jpg_69.jpg', 'jpg_6 - Copy (2).jpg', 'jpg_24 - Copy (3).jpg', 'jpg_53 - Copy (2).jpg', 'jpg_75 - Copy.jpg', 'jpg_16 - Copy (3).jpg', 'jpg_14 - Copy (4).jpg', 'jpg_15.jpg', 'jpg_68 - Copy.jpg', 'jpg_33 - Copy (4).jpg', 'jpg_25 - Copy.jpg', 'jpg_62.jpg', 'jpg_68 - Copy (2).jpg', 'jpg_7 - Copy.jpg', 'jpg_10 - Copy (3).jpg', 'jpg_22.jpg', 'jpg_3 - Copy (2).jpg', 'jpg_16 - Copy (4).jpg', 'jpg_10.jpg', 'jpg_48 - Copy (4).jpg', 'jpg_48 - Copy (2).jpg', 'jpg_71 - Copy (2).jpg', 'jpg_69 - Copy.jpg', 'jpg_32.jpg', 'jpg_24.jpg', 'jpg_58 - Copy (3).jpg', 'jpg_55.jpg', 'jpg_33.jpg', 'jpg_26 - Copy (2).jpg', 'jpg_37 - Copy (3).jpg', 'jpg_9 - Copy (2).jpg', 'jpg_79 - Copy.jpg', 'jpg_16 - Copy.jpg', 'jpg_28 - Copy (4).jpg', 'jpg_18.jpg', 'jpg_48 - Copy.jpg', 'jpg_17 - Copy (3).jpg', 'jpg_73 - Copy.jpg', 'jpg_60 - Copy.jpg', 'jpg_75.jpg', 'jpg_25 - Copy (3).jpg', 'jpg_40 - Copy (3).jpg', 'jpg_30 - Copy (4).jpg', 'jpg_71 - Copy (3).jpg', 'jpg_13 - Copy (3).jpg', 'jpg_11 - Copy (4).jpg', 'jpg_16.jpg', 'jpg_33 - Copy.jpg', 'jpg_79 - Copy (4).jpg', 'jpg_3 - Copy (3).jpg', 'jpg_24 - Copy (4).jpg', 'jpg_1.jpg', 'jpg_51.jpg', 'jpg_6 - Copy.jpg', 'jpg_70 - Copy (2).jpg', 'jpg_37.jpg', 'jpg_17.jpg', 'jpg_23 - Copy.jpg', 'jpg_23.jpg', 'jpg_39 - Copy.jpg', 'jpg_12 - Copy (4).jpg', 'jpg_51 - Copy (3).jpg', 'jpg_69 - Copy (2).jpg', 'jpg_61 - Copy (4).jpg', 'jpg_37 - Copy (4).jpg', 'jpg_35 - Copy (4).jpg', 'jpg_61 - Copy.jpg', 'jpg_1 - Copy (4).jpg', 'jpg_35.jpg', 'jpg_7 - Copy (2).jpg', 'jpg_50 - Copy.jpg', 'jpg_6.jpg', 'jpg_14 - Copy.jpg', 'jpg_73 - Copy (4).jpg', 'jpg_58 - Copy (4).jpg', 'jpg_74 - Copy (4).jpg', 'jpg_26.jpg', 'jpg_58 - Copy.jpg', 'jpg_39.jpg', 'jpg_70 - Copy.jpg', 'jpg_28 - Copy (3).jpg', 'jpg_73 - Copy (2).jpg', 'jpg_69 - Copy (4).jpg', 'jpg_23 - Copy (2).jpg', 'jpg_58.jpg', 'jpg_13.jpg', 'jpg_73.jpg', 'jpg_71.jpg', 'jpg_61 - Copy (3).jpg', 'jpg_28.jpg', 'jpg_17 - Copy (2).jpg', 'jpg_36 - Copy (3).jpg', 'jpg_43 - Copy.jpg', 'jpg_40.jpg', 'jpg_44 - Copy.jpg', 'jpg_74 - Copy.jpg', 'jpg_63 - Copy (3).jpg', 'jpg_78 - Copy (2).jpg', 'jpg_23 - Copy (4).jpg', 'jpg_74 - Copy (3).jpg', 'jpg_72.jpg', 'jpg_1 - Copy.jpg', 'jpg_43 - Copy (4).jpg', 'jpg_11.jpg', 'jpg_42 - Copy.jpg', 'jpg_2 - Copy (4).jpg', 'jpg_35 - Copy.jpg', 'jpg_9 - Copy (3).jpg', 'jpg_1 - Copy (2).jpg', 'jpg_22 - Copy.jpg', 'jpg_68.jpg', 'jpg_71 - Copy (4).jpg', 'jpg_55 - Copy.jpg', 'jpg_13 - Copy (2).jpg', 'jpg_9.jpg', 'jpg_10 - Copy.jpg', 'jpg_57 - Copy (4).jpg']\n"
     ]
    }
   ],
   "source": [
    "root_dir = 'dataset/train'\n",
    "aphids_label_dir = 'aphids'             # 蚜虫\n",
    "armyWorm_label_dir = 'armyWorm'         # 粘虫\n",
    "beetle_label_dir = 'beetle'             # 甲虫\n",
    "bollWorm_label_dir = 'bollWorm'         # 棉铃虫\n",
    "grasshopper_label_dir = 'grasshopper'   # 蚱蜢\n",
    "mites_label_dir = 'mites'               # 螨虫\n",
    "sawfly_label_dir = 'sawfly'             # 叶蜂\n",
    "stemBorer_label_dir = 'stemBorer'        # 茎蚜虫\n",
    "\n",
    "aphids_dataset = MyDataset(root_dir, aphids_label_dir)\n",
    "armyWorm_dataset = MyDataset(root_dir, armyWorm_label_dir)\n",
    "beetle_dataset = MyDataset(root_dir, beetle_label_dir)\n",
    "bollWorm_dataset = MyDataset(root_dir, bollWorm_label_dir)\n",
    "grasshopper_dataset = MyDataset(root_dir, grasshopper_label_dir)\n",
    "mites_dataset = MyDataset(root_dir, mites_label_dir)\n",
    "sawfly_dataset = MyDataset(root_dir, sawfly_label_dir)\n",
    "stemBorer_dataset = MyDataset(root_dir, stemBorer_label_dir)\n",
    "\n",
    "train_dateset = aphids_dataset + armyWorm_dataset + beetle_dataset + bollWorm_dataset + grasshopper_dataset + mites_dataset + sawfly_dataset + stemBorer_dataset\n",
    "\n",
    "root_dir = 'dataset/test'\n",
    "aphids_dataset_test = MyDataset(root_dir, aphids_label_dir)\n",
    "armyWorm_dataset_test = MyDataset(root_dir, armyWorm_label_dir)\n",
    "beetle_dataset_test = MyDataset(root_dir, beetle_label_dir)\n",
    "bollWorm_dataset_test = MyDataset(root_dir, bollWorm_label_dir)\n",
    "grasshopper_dataset_test = MyDataset(root_dir, grasshopper_label_dir)\n",
    "mites_dataset_test = MyDataset(root_dir, mites_label_dir)\n",
    "sawfly_dataset_test = MyDataset(root_dir, sawfly_label_dir)\n",
    "stemBorer_dataset_test = MyDataset(root_dir, stemBorer_label_dir)\n",
    "\n",
    "test_dateset = aphids_dataset_test + armyWorm_dataset_test + beetle_dataset_test +bollWorm_dataset_test + grasshopper_dataset_test + mites_dataset_test + sawfly_dataset_test + stemBorer_dataset_test\n"
   ],
   "metadata": {
    "collapsed": false,
    "ExecuteTime": {
     "end_time": "2024-10-29T03:04:59.843585Z",
     "start_time": "2024-10-29T03:04:59.798674Z"
    }
   },
   "id": "14d9ac3011154933",
   "execution_count": 14
  }
 ],
 "metadata": {
  "kernelspec": {
   "display_name": "Python 3",
   "language": "python",
   "name": "python3"
  },
  "language_info": {
   "codemirror_mode": {
    "name": "ipython",
    "version": 2
   },
   "file_extension": ".py",
   "mimetype": "text/x-python",
   "name": "python",
   "nbconvert_exporter": "python",
   "pygments_lexer": "ipython2",
   "version": "2.7.6"
  }
 },
 "nbformat": 4,
 "nbformat_minor": 5
}
