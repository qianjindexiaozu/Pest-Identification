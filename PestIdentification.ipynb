{
  "cells": [
    {
      "cell_type": "markdown",
      "source": [
        "导入需要的包"
      ],
      "metadata": {
        "collapsed": false,
        "id": "550f1b1f806d2d4f"
      },
      "id": "550f1b1f806d2d4f"
    },
    {
      "cell_type": "code",
      "source": [
        "!git clone https://github.com/qianjindexiaozu/Pest-Identification.git"
      ],
      "metadata": {
        "id": "8DkwSO9dlTJ1",
        "outputId": "2cd67a57-67ec-4c9c-f078-6b749ef441f5",
        "colab": {
          "base_uri": "https://localhost:8080/"
        }
      },
      "id": "8DkwSO9dlTJ1",
      "execution_count": 1,
      "outputs": [
        {
          "output_type": "stream",
          "name": "stdout",
          "text": [
            "Cloning into 'Pest-Identification'...\n",
            "remote: Enumerating objects: 627, done.\u001b[K\n",
            "remote: Counting objects: 100% (627/627), done.\u001b[K\n",
            "remote: Compressing objects: 100% (625/625), done.\u001b[K\n",
            "remote: Total 627 (delta 5), reused 620 (delta 1), pack-reused 0 (from 0)\u001b[K\n",
            "Receiving objects: 100% (627/627), 10.93 MiB | 11.96 MiB/s, done.\n",
            "Resolving deltas: 100% (5/5), done.\n",
            "Updating files: 100% (2804/2804), done.\n"
          ]
        }
      ]
    },
    {
      "cell_type": "code",
      "execution_count": 2,
      "id": "initial_id",
      "metadata": {
        "collapsed": true,
        "ExecuteTime": {
          "end_time": "2024-11-15T10:08:31.018287Z",
          "start_time": "2024-11-15T10:08:28.249839Z"
        },
        "id": "initial_id"
      },
      "outputs": [],
      "source": [
        "from torch.utils.data import DataLoader # 用于构建数据加载器\n",
        "from torchvision import transforms      # 用于将数据图片格式化\n",
        "from torch.utils.tensorboard import SummaryWriter   # 用于展示处理过程"
      ]
    },
    {
      "cell_type": "markdown",
      "source": [
        "创建数据集"
      ],
      "metadata": {
        "collapsed": false,
        "id": "1d5c686e10ec526"
      },
      "id": "1d5c686e10ec526"
    },
    {
      "cell_type": "code",
      "outputs": [],
      "source": [
        "import torchvision\n",
        "\n",
        "# aphids 蚜虫\n",
        "# armyWorm 粘虫\n",
        "# beetle 甲虫\n",
        "# bollWorm 棉铃虫\n",
        "# grasshopper 蚱蜢\n",
        "# mites 螨虫\n",
        "# sawfly 叶蜂\n",
        "# stemBorer 茎蚜虫\n",
        "\n",
        "def remove_non_three_channels(image):\n",
        "    \"\"\"移除非三通道的图像\"\"\"\n",
        "    if image.shape[0] != 3:\n",
        "        return None\n",
        "    else:\n",
        "        return image\n",
        "\n",
        "tranform = transforms.Compose([\n",
        "    transforms.Resize((256, 256)),\n",
        "    transforms.ToTensor(),\n",
        "    transforms.Lambda(remove_non_three_channels),\n",
        "])   # 3 256 256\n",
        "\n",
        "# 训练数据\n",
        "root_dir = 'Pest-Identification/dataset/train'\n",
        "train_dataset = torchvision.datasets.ImageFolder(root=root_dir, transform=tranform)\n",
        "\n",
        "# 过滤掉None值\n",
        "train_dataset = [item for item in train_dataset if item[1] is not None]\n",
        "\n",
        "# 测试数据\n",
        "root_dir = 'Pest-Identification/dataset/test'\n",
        "test_dataset = torchvision.datasets.ImageFolder(root=root_dir, transform=tranform)\n",
        "\n",
        "# 过滤掉None值\n",
        "test_dataset = [item for item in test_dataset if item[1] is not None]\n"
      ],
      "metadata": {
        "ExecuteTime": {
          "end_time": "2024-11-15T10:08:41.379656Z",
          "start_time": "2024-11-15T10:08:31.019817Z"
        },
        "id": "14d9ac3011154933"
      },
      "id": "14d9ac3011154933",
      "execution_count": 3
    },
    {
      "cell_type": "code",
      "outputs": [
        {
          "output_type": "stream",
          "name": "stdout",
          "text": [
            "train:  2400\n",
            "test:  400\n"
          ]
        }
      ],
      "source": [
        "# length长度\n",
        "train_data_size = len(train_dataset)\n",
        "test_data_size = len(test_dataset)\n",
        "print(\"train: \", train_data_size)\n",
        "print(\"test: \", test_data_size)\n",
        "\n"
      ],
      "metadata": {
        "ExecuteTime": {
          "end_time": "2024-11-15T10:08:41.397612Z",
          "start_time": "2024-11-15T10:08:41.391671Z"
        },
        "colab": {
          "base_uri": "https://localhost:8080/"
        },
        "id": "706689793b63eaa5",
        "outputId": "c12e0dba-0127-43a3-fbbd-c62a907f8c65"
      },
      "id": "706689793b63eaa5",
      "execution_count": 5
    },
    {
      "cell_type": "code",
      "outputs": [
        {
          "output_type": "stream",
          "name": "stdout",
          "text": [
            "调用GPU\n",
            "--------------第 1 轮训练开始----------------\n",
            "0.029056787490844727\n",
            "训练次数：1， Loss：2.0959348678588867\n",
            "1.6896181106567383\n",
            "训练次数：2， Loss：4.043954849243164\n",
            "3.2654778957366943\n",
            "训练次数：3， Loss：25.248777389526367\n",
            "4.826970815658569\n",
            "训练次数：4， Loss：239.0\n",
            "6.372126340866089\n"
          ]
        },
        {
          "output_type": "error",
          "ename": "KeyboardInterrupt",
          "evalue": "",
          "traceback": [
            "\u001b[0;31m---------------------------------------------------------------------------\u001b[0m",
            "\u001b[0;31mKeyboardInterrupt\u001b[0m                         Traceback (most recent call last)",
            "\u001b[0;32m<ipython-input-7-bc5cf22963c6>\u001b[0m in \u001b[0;36m<cell line: 56>\u001b[0;34m()\u001b[0m\n\u001b[1;32m     75\u001b[0m         \u001b[0mend_time\u001b[0m \u001b[0;34m=\u001b[0m \u001b[0mtime\u001b[0m\u001b[0;34m.\u001b[0m\u001b[0mtime\u001b[0m\u001b[0;34m(\u001b[0m\u001b[0;34m)\u001b[0m\u001b[0;34m\u001b[0m\u001b[0;34m\u001b[0m\u001b[0m\n\u001b[1;32m     76\u001b[0m         \u001b[0mprint\u001b[0m\u001b[0;34m(\u001b[0m\u001b[0mend_time\u001b[0m \u001b[0;34m-\u001b[0m \u001b[0mstart_time\u001b[0m\u001b[0;34m)\u001b[0m\u001b[0;34m\u001b[0m\u001b[0;34m\u001b[0m\u001b[0m\n\u001b[0;32m---> 77\u001b[0;31m         \u001b[0mprint\u001b[0m\u001b[0;34m(\u001b[0m\u001b[0;34m\"训练次数：{}， Loss：{}\"\u001b[0m\u001b[0;34m.\u001b[0m\u001b[0mformat\u001b[0m\u001b[0;34m(\u001b[0m\u001b[0mtotal_train_step\u001b[0m\u001b[0;34m,\u001b[0m \u001b[0mloss\u001b[0m\u001b[0;34m.\u001b[0m\u001b[0mitem\u001b[0m\u001b[0;34m(\u001b[0m\u001b[0;34m)\u001b[0m\u001b[0;34m)\u001b[0m\u001b[0;34m)\u001b[0m\u001b[0;34m\u001b[0m\u001b[0;34m\u001b[0m\u001b[0m\n\u001b[0m\u001b[1;32m     78\u001b[0m         \u001b[0;31m# print(targets)\u001b[0m\u001b[0;34m\u001b[0m\u001b[0;34m\u001b[0m\u001b[0m\n\u001b[1;32m     79\u001b[0m \u001b[0;34m\u001b[0m\u001b[0m\n",
            "\u001b[0;31mKeyboardInterrupt\u001b[0m: "
          ]
        }
      ],
      "source": [
        "# 利用DataLoader加载数据集\n",
        "train_dataloader = DataLoader(train_dataset, batch_size=16, shuffle=True)\n",
        "test_dataloader = DataLoader(test_dataset, batch_size=16, shuffle=True)\n",
        "\n",
        "# 搭建神经网络\n",
        "import torch\n",
        "from torch import nn\n",
        "import time\n",
        "\n",
        "class Xiaozu(nn.Module):\n",
        "    def __init__(self):\n",
        "        super(Xiaozu, self).__init__()\n",
        "        self.model = nn.Sequential(\n",
        "            nn.Conv2d(3, 256, 17, 1, 8),  # 256 @ 256 * 256\n",
        "            nn.MaxPool2d(4),  # 256 @ 64 * 64\n",
        "            nn.Conv2d(256, 256, 17, 1, 8),  # 256 @ 64 * 64\n",
        "            nn.MaxPool2d(4),  # 256 @ 16 * 16\n",
        "            nn.Flatten(),  # 256 * 16 * 16\n",
        "            nn.Linear(256 * 16 * 16, 256),  # 256\n",
        "            nn.Linear(256, 8),  # 8\n",
        "        )\n",
        "\n",
        "    def forward(self, x):\n",
        "        x = self.model(x)\n",
        "        return x\n",
        "\n",
        "# 网络模型\n",
        "xiaozu = Xiaozu()\n",
        "if torch.cuda.is_available():\n",
        "    print(\"调用GPU\")\n",
        "    xiaozu = xiaozu.cuda()\n",
        "else:\n",
        "    print(\"调用CPU\")\n",
        "\n",
        "# 损失函数\n",
        "loss_fn = nn.CrossEntropyLoss()\n",
        "if torch.cuda.is_available():\n",
        "    loss_fn = loss_fn.cuda()\n",
        "\n",
        "# 优化器\n",
        "learning_rate = 0.01    # 学习速率\n",
        "optimizer = torch.optim.SGD(xiaozu.parameters(), lr=learning_rate)\n",
        "\n",
        "# 设置训练网络的一些参数\n",
        "# 记录训练的次数\n",
        "total_train_step = 0\n",
        "# 记录测试的次数\n",
        "total_test_step = 0\n",
        "# 训练轮数\n",
        "epoch = 5\n",
        "\n",
        "# 添加Tensorboard\n",
        "writer = SummaryWriter(\"/Pest-Identification/logs\")\n",
        "\n",
        "start_time = time.time();\n",
        "for i in range(epoch):\n",
        "    print(\"--------------第 {} 轮训练开始----------------\".format(i + 1))\n",
        "\n",
        "    # 训练步骤开始\n",
        "    for data in train_dataloader:\n",
        "        torch.cuda.empty_cache()\n",
        "        imgs, targets = data\n",
        "        if torch.cuda.is_available():\n",
        "            imgs = imgs.cuda()\n",
        "            targets = targets.cuda()\n",
        "        outputs = xiaozu(imgs)\n",
        "        loss = loss_fn(outputs, targets)\n",
        "\n",
        "        # 优化器优化模型\n",
        "        optimizer.zero_grad()\n",
        "        loss.backward()\n",
        "        optimizer.step()\n",
        "\n",
        "        total_train_step += 1\n",
        "        end_time = time.time()\n",
        "        print(end_time - start_time)\n",
        "        print(\"训练次数：{}， Loss：{}\".format(total_train_step, loss.item()))\n",
        "        # print(targets)\n",
        "\n",
        "    # 测试步骤开始\n",
        "    total_test_loss = 0\n",
        "    with torch.no_grad:\n",
        "        for data in test_dataloader:\n",
        "            imgs, targets = data\n",
        "            if torch.cuda.is_available():\n",
        "                imgs = imgs.cuda()\n",
        "                targets = targets.cuda()\n",
        "            outputs = xiaozu(imgs)\n",
        "            loss = loss_fn(outputs, targets)\n",
        "            total_test_loss += loss.item()\n",
        "    print(\"整体测试集上的Loss：{}\".format(total_test_loss))\n",
        "\n",
        "\n"
      ],
      "metadata": {
        "ExecuteTime": {
          "end_time": "2024-11-15T10:11:05.072619Z",
          "start_time": "2024-11-15T10:11:03.770216Z"
        },
        "colab": {
          "base_uri": "https://localhost:8080/",
          "height": 402
        },
        "id": "f4785abebe7f1eec",
        "outputId": "1ae91546-8d7e-46dc-b557-019bcd4f43e8"
      },
      "id": "f4785abebe7f1eec",
      "execution_count": 7
    }
  ],
  "metadata": {
    "kernelspec": {
      "display_name": "Python 3",
      "name": "python3"
    },
    "language_info": {
      "codemirror_mode": {
        "name": "ipython",
        "version": 2
      },
      "file_extension": ".py",
      "mimetype": "text/x-python",
      "name": "python",
      "nbconvert_exporter": "python",
      "pygments_lexer": "ipython2",
      "version": "2.7.6"
    },
    "colab": {
      "provenance": [],
      "gpuType": "T4"
    },
    "accelerator": "GPU"
  },
  "nbformat": 4,
  "nbformat_minor": 5
}